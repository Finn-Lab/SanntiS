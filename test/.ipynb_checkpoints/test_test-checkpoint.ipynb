{
 "cells": [
  {
   "cell_type": "code",
   "execution_count": 56,
   "id": "de0e32e8",
   "metadata": {},
   "outputs": [],
   "source": [
    "__file__ = \"/Volumes/LaCie/fragoso/module/emeraldbgc/tests/test_unit_detection.py\"\n",
    "\n",
    "import os\n",
    "import sys\n",
    "import filecmp\n",
    "import pytest\n",
    "import emeraldbgc\n",
    "\n",
    "emrld_dir = os.path.dirname(os.path.abspath(emeraldbgc.__file__))\n",
    "test_files_dir = os.path.join(os.path.dirname(os.path.abspath(__file__)), \"files\")\n",
    "modules_dir = os.path.join(emrld_dir, \"modules\")\n",
    "sys.path.append(modules_dir)\n",
    "\n",
    "from BGCdetection import AnnotationFilesToEmerald\n",
    "\n",
    "\n",
    "\n",
    "\n",
    "def test_bgc_prediction():\n",
    "    \n",
    "    prodigal_file = os.path.join(test_files_dir, \"BGC0001472.fna.prodigal.faa\")\n",
    "    ips_file = os.path.join(test_files_dir, \"BGC0001472.fna.prodigal.faa.ip.tsv\")\n",
    "    hmm_file = os.path.join(test_files_dir, \"BGC0001472.fna.prodigal.faa.emerald.tsv\")\n",
    "\n",
    "    ann = AnnotationFilesToEmerald()\n",
    "    ann.transformIPS(ips_file)\n",
    "    ann.transformEmeraldHmm(hmm_file)\n",
    "    fmt = \"fna\"\n",
    "    ann.transformCDSpredToCDScontigs(\n",
    "            prodigal_file,\n",
    "            fmt)\n",
    "\n",
    "    ann.buildMatrices()\n",
    "    assert ann.annDct['BGC0001472'].shape == (200, 15264)\n",
    "    assert np.sum(ann.annDct['BGC0001472']) == 46.\n",
    "    ann.predictAnn()\n",
    "    np.sum(ann.annResults['BGC0001472']) == 15.492591619491577\n",
    "    score,g = None, 1\n",
    "    ann.defineLooseClusters(score=score, g=g)\n",
    "\n",
    "    ann.predictType()\n",
    "    assert np.array_equal(np.where(ann.typesClst['BGC0001472']!=None)[0], np.array([ 0,  1,  2,  3,  4,  5,  6,  7,  8,  9, 10, 11, 12, 13, 14, 15]))"
   ]
  },
  {
   "cell_type": "code",
   "execution_count": 61,
   "id": "cc5893b2",
   "metadata": {},
   "outputs": [],
   "source": [
    "from emeraldbgc import _cli\n",
    "import pytest\n",
    "\n",
    "def testCliHelp():\n",
    "    with pytest.raises(SystemExit) as e:\n",
    "        _cli.main(['--help'])\n",
    "    assert e.value.code == 0\n"
   ]
  },
  {
   "cell_type": "code",
   "execution_count": 68,
   "id": "473a6931",
   "metadata": {},
   "outputs": [],
   "source": [
    "import os\n",
    "import sys\n",
    "import filecmp\n",
    "import pytest\n",
    "import emeraldbgc\n",
    "import tempfile\n",
    "\n",
    "emrld_dir = os.path.dirname(os.path.abspath(emeraldbgc.__file__))\n",
    "test_files_dir = os.path.join(os.path.dirname(os.path.abspath(__file__)), \"files\")\n",
    "modules_dir = os.path.join(emrld_dir, \"modules\")\n",
    "sys.path.append(modules_dir)\n",
    "\n",
    "from modules.Preproc import Preprocess\n",
    "\n",
    "def test_prodigal():\n",
    "    with tempfile.TemporaryDirectory() as tmpdir:\n",
    "        pp = Preprocess(\n",
    "            os.path.join(test_files_dir, \"BGC0001472.fna\"),\n",
    "            None,\n",
    "            False,\n",
    "            1,\n",
    "            tmpdir\n",
    "        )\n",
    "        test_prodigal_file =  pp.runProdigal()\n",
    "    assert filecmp.cmp(test_prodigal_file, os.path.join(test_files_dir, \"BGC0001472.fna.prodigal.faa\")) \n",
    "    \n",
    "def test_gbk_transform():\n",
    "    with tempfile.TemporaryDirectory() as tmpdir:\n",
    "        pp = Preprocess(\n",
    "            os.path.join(test_files_dir, \"BGC0001472.fna.prodigal.faa.gb\"),\n",
    "            None,\n",
    "            False,\n",
    "            1,\n",
    "            tmpdir\n",
    "        )\n",
    "        test_prodigal_file =  pp.gbkToProdigal()\n",
    "    assert filecmp.cmp(test_prodigal_file, os.path.join(test_files_dir, \"BGC0001472.fna.prodigal.faa.gb.prodigal.faa\"))\n",
    "     \n",
    "def test_hmmscan_ih():\n",
    "    with tempfile.TemporaryDirectory() as tmpdir:\n",
    "        pp = Preprocess(\n",
    "            os.path.join(test_files_dir, None),\n",
    "            None,\n",
    "            False,\n",
    "            1,\n",
    "            tmpdir\n",
    "        )\n",
    "        pp.outFaa = os.path.join(test_files_dir, \"BGC0001472.fna.prodigal.faa\")\n",
    "        test_hmm_file =  pp.runHmmScan()\n",
    "    assert filecmp.cmp(test_hmm_file, os.path.join(test_file_dir, \"BGC0001472.fna.prodigal.faa.emerald.tsv\"))\n",
    "     \n",
    "def test_ipscan_ih():\n",
    "    with tempfile.TemporaryDirectory() as tmpdir:\n",
    "\n",
    "        if 'linux' not in sys.platform:\n",
    "            assert True\n",
    "        else: \n",
    "            pp = Preprocess(\n",
    "                os.path.join(test_files_dir, None),\n",
    "                None,\n",
    "                False,\n",
    "                1,\n",
    "                tmpdir\n",
    "            )\n",
    "            pp.outFaa = os.path.join(test_files_dir, \"BGC0001472.fna.prodigal.faa\")\n",
    "            test_ip_file =  pp.runInterproscan()\n",
    "    assert filecmp.cmp(test_ip_file, os.path.join(test_file_dir, \"BGC0001472.fna.prodigal.faa.ip.tsv\"))"
   ]
  },
  {
   "cell_type": "code",
   "execution_count": 64,
   "id": "a68d48c4",
   "metadata": {},
   "outputs": [
    {
     "ename": "FileNotFoundError",
     "evalue": "[Errno 2] No such file or directory: '/Volumes/LaCie/fragoso/module/emeraldbgc/tests/files/Test/BGC0001472.fna.prodigal.faa'",
     "output_type": "error",
     "traceback": [
      "\u001b[0;31m---------------------------------------------------------------------------\u001b[0m",
      "\u001b[0;31mFileNotFoundError\u001b[0m                         Traceback (most recent call last)",
      "\u001b[0;32m/Volumes/LaCie/fragoso/module/emeraldbgc/tests/test_unit_detection.py\u001b[0m in \u001b[0;36m<module>\u001b[0;34m\u001b[0m\n\u001b[0;32m----> 1\u001b[0;31m \u001b[0mtest_prodigal\u001b[0m\u001b[0;34m(\u001b[0m\u001b[0;34m)\u001b[0m\u001b[0;34m\u001b[0m\u001b[0;34m\u001b[0m\u001b[0m\n\u001b[0m",
      "\u001b[0;32m/Volumes/LaCie/fragoso/module/emeraldbgc/tests/test_unit_detection.py\u001b[0m in \u001b[0;36mtest_prodigal\u001b[0;34m()\u001b[0m\n\u001b[1;32m     20\u001b[0m         \u001b[0mos\u001b[0m\u001b[0;34m.\u001b[0m\u001b[0mpath\u001b[0m\u001b[0;34m.\u001b[0m\u001b[0mjoin\u001b[0m\u001b[0;34m(\u001b[0m\u001b[0mtest_files_dir\u001b[0m\u001b[0;34m,\u001b[0m \u001b[0;34m\"Test\"\u001b[0m\u001b[0;34m)\u001b[0m\u001b[0;34m\u001b[0m\u001b[0;34m\u001b[0m\u001b[0m\n\u001b[1;32m     21\u001b[0m     )\n\u001b[0;32m---> 22\u001b[0;31m     \u001b[0mtest_prodigal_file\u001b[0m \u001b[0;34m=\u001b[0m  \u001b[0mpp\u001b[0m\u001b[0;34m.\u001b[0m\u001b[0mrunProdigal\u001b[0m\u001b[0;34m(\u001b[0m\u001b[0;34m)\u001b[0m\u001b[0;34m\u001b[0m\u001b[0;34m\u001b[0m\u001b[0m\n\u001b[0m\u001b[1;32m     23\u001b[0m     \u001b[0;32massert\u001b[0m \u001b[0mfilecmp\u001b[0m\u001b[0;34m.\u001b[0m\u001b[0mcmp\u001b[0m\u001b[0;34m(\u001b[0m\u001b[0mtest_prodigal_file\u001b[0m\u001b[0;34m,\u001b[0m \u001b[0mos\u001b[0m\u001b[0;34m.\u001b[0m\u001b[0mpath\u001b[0m\u001b[0;34m.\u001b[0m\u001b[0mjoin\u001b[0m\u001b[0;34m(\u001b[0m\u001b[0mtest_files_dir\u001b[0m\u001b[0;34m,\u001b[0m \u001b[0;34m\"BGC0001472.fna.prodigal.faa\"\u001b[0m\u001b[0;34m)\u001b[0m\u001b[0;34m)\u001b[0m\u001b[0;34m\u001b[0m\u001b[0;34m\u001b[0m\u001b[0m\n\u001b[1;32m     24\u001b[0m \u001b[0;34m\u001b[0m\u001b[0m\n",
      "\u001b[0;32m~/miniconda3/lib/python3.8/site-packages/emeraldbgc/modules/Preproc.py\u001b[0m in \u001b[0;36mrunProdigal\u001b[0;34m(self)\u001b[0m\n\u001b[1;32m     72\u001b[0m             \"\"\"\n\u001b[1;32m     73\u001b[0m         \u001b[0mlog\u001b[0m\u001b[0;34m.\u001b[0m\u001b[0minfo\u001b[0m\u001b[0;34m(\u001b[0m\u001b[0;34m\"Removing asterix from prodigal faa\"\u001b[0m\u001b[0;34m)\u001b[0m\u001b[0;34m\u001b[0m\u001b[0;34m\u001b[0m\u001b[0m\n\u001b[0;32m---> 74\u001b[0;31m         \u001b[0;32mwith\u001b[0m \u001b[0mopen\u001b[0m\u001b[0;34m(\u001b[0m\u001b[0moutFaa\u001b[0m\u001b[0;34m,\u001b[0m \u001b[0;34m\"r\"\u001b[0m\u001b[0;34m)\u001b[0m \u001b[0;32mas\u001b[0m \u001b[0mh\u001b[0m\u001b[0;34m:\u001b[0m\u001b[0;34m\u001b[0m\u001b[0;34m\u001b[0m\u001b[0m\n\u001b[0m\u001b[1;32m     75\u001b[0m             \u001b[0mnoAstFaa\u001b[0m \u001b[0;34m=\u001b[0m \u001b[0;34m[\u001b[0m\u001b[0mx\u001b[0m\u001b[0;34m.\u001b[0m\u001b[0mreplace\u001b[0m\u001b[0;34m(\u001b[0m\u001b[0;34m\"*\"\u001b[0m\u001b[0;34m,\u001b[0m \u001b[0;34m\"\"\u001b[0m\u001b[0;34m)\u001b[0m \u001b[0;32mfor\u001b[0m \u001b[0mx\u001b[0m \u001b[0;32min\u001b[0m \u001b[0mh\u001b[0m\u001b[0;34m]\u001b[0m\u001b[0;34m\u001b[0m\u001b[0;34m\u001b[0m\u001b[0m\n\u001b[1;32m     76\u001b[0m         \u001b[0;32mwith\u001b[0m \u001b[0mopen\u001b[0m\u001b[0;34m(\u001b[0m\u001b[0moutFaa\u001b[0m\u001b[0;34m,\u001b[0m \u001b[0;34m\"w\"\u001b[0m\u001b[0;34m)\u001b[0m \u001b[0;32mas\u001b[0m \u001b[0mh\u001b[0m\u001b[0;34m:\u001b[0m\u001b[0;34m\u001b[0m\u001b[0;34m\u001b[0m\u001b[0m\n",
      "\u001b[0;31mFileNotFoundError\u001b[0m: [Errno 2] No such file or directory: '/Volumes/LaCie/fragoso/module/emeraldbgc/tests/files/Test/BGC0001472.fna.prodigal.faa'"
     ]
    }
   ],
   "source": [
    "test_prodigal()"
   ]
  },
  {
   "cell_type": "code",
   "execution_count": 69,
   "id": "fd79cd7f",
   "metadata": {},
   "outputs": [
    {
     "name": "stdout",
     "output_type": "stream",
     "text": [
      "created temporary directory /var/folders/tt/7dpv_43j5xg2cwpcglcrpq25b8xpvd/T/tmp546cju86\n"
     ]
    },
    {
     "ename": "NameError",
     "evalue": "name 'asdas' is not defined",
     "output_type": "error",
     "traceback": [
      "\u001b[0;31m---------------------------------------------------------------------------\u001b[0m",
      "\u001b[0;31mNameError\u001b[0m                                 Traceback (most recent call last)",
      "\u001b[0;32m/Volumes/LaCie/fragoso/module/emeraldbgc/tests/test_unit_detection.py\u001b[0m in \u001b[0;36m<module>\u001b[0;34m\u001b[0m\n\u001b[1;32m      1\u001b[0m \u001b[0;32mwith\u001b[0m \u001b[0mtempfile\u001b[0m\u001b[0;34m.\u001b[0m\u001b[0mTemporaryDirectory\u001b[0m\u001b[0;34m(\u001b[0m\u001b[0;34m)\u001b[0m \u001b[0;32mas\u001b[0m \u001b[0mtmpdirname\u001b[0m\u001b[0;34m:\u001b[0m\u001b[0;34m\u001b[0m\u001b[0;34m\u001b[0m\u001b[0m\n\u001b[1;32m      2\u001b[0m      \u001b[0mprint\u001b[0m\u001b[0;34m(\u001b[0m\u001b[0;34m'created temporary directory'\u001b[0m\u001b[0;34m,\u001b[0m \u001b[0mtmpdirname\u001b[0m\u001b[0;34m)\u001b[0m\u001b[0;34m\u001b[0m\u001b[0;34m\u001b[0m\u001b[0m\n\u001b[0;32m----> 3\u001b[0;31m      \u001b[0mprint\u001b[0m\u001b[0;34m(\u001b[0m\u001b[0masdas\u001b[0m\u001b[0;34m)\u001b[0m\u001b[0;34m\u001b[0m\u001b[0;34m\u001b[0m\u001b[0m\n\u001b[0m",
      "\u001b[0;31mNameError\u001b[0m: name 'asdas' is not defined"
     ]
    }
   ],
   "source": [
    "with tempfile.TemporaryDirectory() as tmpdirname:\n",
    "     print('created temporary directory', tmpdirname)\n",
    "   \n",
    "     print(asdas)"
   ]
  },
  {
   "cell_type": "code",
   "execution_count": 70,
   "id": "b92ad138",
   "metadata": {},
   "outputs": [
    {
     "name": "stdout",
     "output_type": "stream",
     "text": [
      "ls: /var/folders/tt/7dpv_43j5xg2cwpcglcrpq25b8xpvd/T/tmp546cju86: No such file or directory\n"
     ]
    }
   ],
   "source": [
    "ls /var/folders/tt/7dpv_43j5xg2cwpcglcrpq25b8xpvd/T/tmp546cju86"
   ]
  }
 ],
 "metadata": {
  "kernelspec": {
   "display_name": "Python 3",
   "language": "python",
   "name": "python3"
  },
  "language_info": {
   "codemirror_mode": {
    "name": "ipython",
    "version": 3
   },
   "file_extension": ".py",
   "mimetype": "text/x-python",
   "name": "python",
   "nbconvert_exporter": "python",
   "pygments_lexer": "ipython3",
   "version": "3.8.5"
  }
 },
 "nbformat": 4,
 "nbformat_minor": 5
}
